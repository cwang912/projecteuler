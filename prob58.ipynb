{
 "metadata": {
  "name": "",
  "signature": "sha256:754d824270eb368330d43b7166ded80767edf35048115857d259aedcf336edd8"
 },
 "nbformat": 3,
 "nbformat_minor": 0,
 "worksheets": [
  {
   "cells": [
    {
     "cell_type": "heading",
     "level": 1,
     "metadata": {},
     "source": [
      "Problem 58: Spiral primes"
     ]
    },
    {
     "cell_type": "markdown",
     "metadata": {},
     "source": [
      "Starting with 1 and spiralling anticlockwise in the following way, a square spiral with side length 7 is formed.\n",
      "\n",
      "37 36 35 34 33 32 31\n",
      "\n",
      "38 17 16 15 14 13 30\n",
      "\n",
      "39 18  5  4  3 12 29\n",
      "\n",
      "40 19  6  1  2 11 28\n",
      "\n",
      "41 20  7  8  9 10 27\n",
      "\n",
      "42 21 22 23 24 25 26\n",
      "\n",
      "43 44 45 46 47 48 49\n",
      "\n",
      "It is interesting to note that the odd squares lie along the bottom right diagonal, but what is more interesting is that 8 out of the 13 numbers lying along both diagonals are prime; that is, a ratio of 8/13 \u2248 62%.\n",
      "\n",
      "If one complete new layer is wrapped around the spiral above, a square spiral with side length 9 will be formed. If this process is continued, what is the side length of the square spiral for which the ratio of primes along both diagonals first falls below 10%?"
     ]
    },
    {
     "cell_type": "code",
     "collapsed": false,
     "input": [
      "def is_prime(n):\n",
      "    if n == 1:\n",
      "        return False\n",
      "    for i in xrange(2,int((abs(n)**0.5))+1):\n",
      "        if n%i == 0:\n",
      "            return False\n",
      "    return True\n",
      "\n",
      "primes = 0\n",
      "width = 1\n",
      "num = 1\n",
      "\n",
      "while True:\n",
      "    width += 2\n",
      "    for i in xrange(0,4):\n",
      "        num += width-1\n",
      "        if is_prime(num):\n",
      "            primes += 1\n",
      "    if 10*primes < 2*width-1:\n",
      "        print primes,width\n",
      "        break"
     ],
     "language": "python",
     "metadata": {},
     "outputs": [
      {
       "output_type": "stream",
       "stream": "stdout",
       "text": [
        "5248 26241\n"
       ]
      }
     ],
     "prompt_number": 2
    }
   ],
   "metadata": {}
  }
 ]
}