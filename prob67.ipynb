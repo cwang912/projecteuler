{
 "metadata": {
  "name": "",
  "signature": "sha256:49cb913bee2fcd1593e69d3bad6c73d61885b1b40f8d23fe3b64ee35c2cdba2a"
 },
 "nbformat": 3,
 "nbformat_minor": 0,
 "worksheets": [
  {
   "cells": [
    {
     "cell_type": "heading",
     "level": 1,
     "metadata": {},
     "source": [
      "Problem 67"
     ]
    },
    {
     "cell_type": "code",
     "collapsed": false,
     "input": [
      "fname = 'p067_triangle.txt'\n",
      "\n",
      "line_length = 1\n",
      "row = []\n",
      "tri = dict()\n",
      "\n",
      "with open(fname,'r') as f:\n",
      "    for line in f:\n",
      "        tri[line_length] = []\n",
      "        for num in line.split():\n",
      "           tri[line_length].append(int(num))\n",
      "        line_length += 1"
     ],
     "language": "python",
     "metadata": {},
     "outputs": [],
     "prompt_number": 83
    },
    {
     "cell_type": "code",
     "collapsed": false,
     "input": [
      "for k in xrange(1,100):\n",
      "    temp = list(tri[k+1])\n",
      "    for i,j in enumerate(tri[k]):\n",
      "        if j+tri[k+1][i] > temp[i]:\n",
      "            temp[i] = j+tri[k+1][i]\n",
      "        if j+tri[k+1][i+1] > temp[i+1]:\n",
      "            temp[i+1] = j+tri[k+1][i+1]\n",
      "    tri[k+1] = temp"
     ],
     "language": "python",
     "metadata": {},
     "outputs": [],
     "prompt_number": 84
    },
    {
     "cell_type": "code",
     "collapsed": false,
     "input": [
      "max(tri[100])"
     ],
     "language": "python",
     "metadata": {},
     "outputs": [
      {
       "metadata": {},
       "output_type": "pyout",
       "prompt_number": 85,
       "text": [
        "7273"
       ]
      }
     ],
     "prompt_number": 85
    }
   ],
   "metadata": {}
  }
 ]
}