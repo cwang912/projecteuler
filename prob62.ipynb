{
 "metadata": {
  "name": "",
  "signature": "sha256:159413cd8bc757e99e966077d0035dc6d1a44908f3931b92bac617e32469743d"
 },
 "nbformat": 3,
 "nbformat_minor": 0,
 "worksheets": [
  {
   "cells": [
    {
     "cell_type": "heading",
     "level": 1,
     "metadata": {},
     "source": [
      "Problem 62"
     ]
    },
    {
     "cell_type": "markdown",
     "metadata": {},
     "source": [
      "\n",
      "The cube, 41063625 (345^3), can be permuted to produce two other cubes: 56623104 (384^3) and 66430125 (405^3). In fact, 41063625 is the smallest cube which has exactly three permutations of its digits which are also cube.\n",
      "\n",
      "Find the smallest cube for which exactly five permutations of its digits are cube."
     ]
    },
    {
     "cell_type": "code",
     "collapsed": false,
     "input": [
      "n = 2152\n",
      "found = False\n",
      "while found == False:\n",
      "    i = n\n",
      "    s = sorted(str(n**3))\n",
      "    count = 1\n",
      "    nums = [n]\n",
      "    digits = len(s)\n",
      "    while found == False and len(str(i**3)) == digits:\n",
      "        i += 1\n",
      "        if sorted(str(i**3)) == s:\n",
      "            nums.append(i)\n",
      "            count += 1\n",
      "            if count > 4:\n",
      "                print nums,n**3\n",
      "                found = True\n",
      "                break\n",
      "    n += 1"
     ],
     "language": "python",
     "metadata": {},
     "outputs": [
      {
       "output_type": "stream",
       "stream": "stdout",
       "text": [
        "[5027, 7061, 7202, 8288, 8384] 127035954683\n"
       ]
      }
     ],
     "prompt_number": 34
    },
    {
     "cell_type": "code",
     "collapsed": false,
     "input": [
      "n = 346\n",
      "nums = dict()\n",
      "found = False\n",
      "while found == False:\n",
      "    temp = ''.join(sorted(str(n**3)))\n",
      "    if temp in nums.keys():\n",
      "        nums[temp].append(n)\n",
      "        if len(nums[temp]) == 5:\n",
      "            print nums[temp], min(nums[temp])**3\n",
      "            found = True\n",
      "            break\n",
      "    else:\n",
      "        nums[temp] = [n]\n",
      "    n += 1\n",
      "\n",
      "        "
     ],
     "language": "python",
     "metadata": {},
     "outputs": [
      {
       "output_type": "stream",
       "stream": "stdout",
       "text": [
        "[5027, 7061, 7202, 8288, 8384] 127035954683\n"
       ]
      }
     ],
     "prompt_number": 56
    }
   ],
   "metadata": {}
  }
 ]
}