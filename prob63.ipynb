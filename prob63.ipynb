{
 "metadata": {
  "name": "",
  "signature": "sha256:2bca82dc2709209f470c2a178ae9fecf3a49b63cf48e5b96617e26c0cfab842f"
 },
 "nbformat": 3,
 "nbformat_minor": 0,
 "worksheets": [
  {
   "cells": [
    {
     "cell_type": "heading",
     "level": 1,
     "metadata": {},
     "source": [
      "Problem 63"
     ]
    },
    {
     "cell_type": "markdown",
     "metadata": {},
     "source": [
      "\n",
      "The 5-digit number, 16807=7^5, is also a fifth power. Similarly, the 9-digit number, 134217728=8^9, is a ninth power.\n",
      "\n",
      "How many n-digit positive integers exist which are also an nth power?"
     ]
    },
    {
     "cell_type": "code",
     "collapsed": false,
     "input": [
      "n = 1\n",
      "count = 0\n",
      "while len(str(9**n)) == n:\n",
      "    for i in xrange(1,10):\n",
      "        if len(str(i**n)) == n:\n",
      "            count += 1\n",
      "    n += 1\n",
      "print count"
     ],
     "language": "python",
     "metadata": {},
     "outputs": [
      {
       "output_type": "stream",
       "stream": "stdout",
       "text": [
        "49\n"
       ]
      }
     ],
     "prompt_number": 24
    }
   ],
   "metadata": {}
  }
 ]
}