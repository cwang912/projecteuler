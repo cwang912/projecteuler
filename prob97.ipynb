{
 "metadata": {
  "name": "",
  "signature": "sha256:13e32f989c9f44085a4efb69f63e72f099545df4dd1e1e8cadfc451a0ff3691c"
 },
 "nbformat": 3,
 "nbformat_minor": 0,
 "worksheets": [
  {
   "cells": [
    {
     "cell_type": "heading",
     "level": 1,
     "metadata": {},
     "source": [
      "Problem 97"
     ]
    },
    {
     "cell_type": "code",
     "collapsed": false,
     "input": [
      "# 28433\u00d72^7830457+1\n",
      "num = 1\n",
      "for x in xrange(0,7830457):\n",
      "    num *= 2\n",
      "    if num >= 10**10:\n",
      "        num = int(str(num)[-10:])\n",
      "num = 28433*num+1\n",
      "num = int(str(num)[-10:])\n",
      "print num"
     ],
     "language": "python",
     "metadata": {},
     "outputs": [],
     "prompt_number": 16
    }
   ],
   "metadata": {}
  }
 ]
}