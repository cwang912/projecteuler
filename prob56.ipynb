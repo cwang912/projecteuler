{
 "metadata": {
  "name": "",
  "signature": "sha256:7f88d1718a9309859eb8567c38d13745b1f914fd571b431d37ce4ce497ce50e3"
 },
 "nbformat": 3,
 "nbformat_minor": 0,
 "worksheets": [
  {
   "cells": [
    {
     "cell_type": "heading",
     "level": 1,
     "metadata": {},
     "source": [
      "Problem 56"
     ]
    },
    {
     "cell_type": "markdown",
     "metadata": {},
     "source": [
      "\n",
      "A googol (10100) is a massive number: one followed by one-hundred zeros; 100100 is almost unimaginably large: one followed by two-hundred zeros. Despite their size, the sum of the digits in each number is only 1.\n",
      "\n",
      "Considering natural numbers of the form, a^b, where a, b < 100, what is the maximum digital sum?"
     ]
    },
    {
     "cell_type": "code",
     "collapsed": false,
     "input": [
      "def sum_digits(n):\n",
      "    total = 0\n",
      "    for i in str(n):\n",
      "        total += int(i)\n",
      "    return total\n",
      "     \n",
      "max_a, max_b, max_sum = 0,0,0\n",
      "for a in xrange(1,100):\n",
      "    for b in xrange(1,100):\n",
      "        temp = sum_digits(a**b)\n",
      "        if temp > max_sum:\n",
      "            max_a, max_b, max_sum = a, b, temp\n",
      "print max_a, max_b, max_sum    "
     ],
     "language": "python",
     "metadata": {},
     "outputs": [
      {
       "output_type": "stream",
       "stream": "stdout",
       "text": [
        "99 95 972\n"
       ]
      }
     ],
     "prompt_number": 1
    }
   ],
   "metadata": {}
  }
 ]
}