{
 "metadata": {
  "name": "",
  "signature": "sha256:5fba96e550d4a19a550440540f3c1be7930db7f84b56da176088e67d3c3a1ab3"
 },
 "nbformat": 3,
 "nbformat_minor": 0,
 "worksheets": [
  {
   "cells": [
    {
     "cell_type": "heading",
     "level": 1,
     "metadata": {},
     "source": [
      "Problem 77"
     ]
    },
    {
     "cell_type": "code",
     "collapsed": false,
     "input": [
      "def primes_sieve(limit):\n",
      "    a = [True] * limit                        # initialize the primality list\n",
      "    a[0] = a[1] = False\n",
      "    for (i, isprime) in enumerate(a):\n",
      "        if isprime:\n",
      "            yield i\n",
      "            for n in xrange(i*i, limit, i):     # mark factors non-prime\n",
      "                a[n] = False\n",
      "                \n",
      "nums = list(primes_sieve(1000))\n",
      "\n",
      "def count(nums,target):\n",
      "    counting = [0]*(target+1)\n",
      "    counting[0] = 1\n",
      "    for i in xrange(len(nums)):\n",
      "        for j in xrange(nums[i],target+1):\n",
      "            counting[j] += counting[j-nums[i]]\n",
      "    return counting"
     ],
     "language": "python",
     "metadata": {},
     "outputs": [],
     "prompt_number": 8
    },
    {
     "cell_type": "code",
     "collapsed": false,
     "input": [
      "target = 1000\n",
      "\n",
      "C = count(nums,1000)"
     ],
     "language": "python",
     "metadata": {},
     "outputs": [],
     "prompt_number": 9
    },
    {
     "cell_type": "code",
     "collapsed": false,
     "input": [
      "len(C)"
     ],
     "language": "python",
     "metadata": {},
     "outputs": [
      {
       "metadata": {},
       "output_type": "pyout",
       "prompt_number": 10,
       "text": [
        "1001"
       ]
      }
     ],
     "prompt_number": 10
    },
    {
     "cell_type": "code",
     "collapsed": false,
     "input": [
      "for i,j in enumerate(C):\n",
      "    if j >= 5000:\n",
      "        print i\n",
      "        break\n"
     ],
     "language": "python",
     "metadata": {},
     "outputs": [
      {
       "output_type": "stream",
       "stream": "stdout",
       "text": [
        "71\n"
       ]
      }
     ],
     "prompt_number": 11
    },
    {
     "cell_type": "code",
     "collapsed": false,
     "input": [],
     "language": "python",
     "metadata": {},
     "outputs": []
    }
   ],
   "metadata": {}
  }
 ]
}