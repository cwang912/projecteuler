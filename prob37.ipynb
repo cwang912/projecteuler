{
 "metadata": {
  "name": "",
  "signature": "sha256:4f36bf669fd67789a8d15b9b81f3cd96c2bb6e5a3b768a275cc28fc6351ad11b"
 },
 "nbformat": 3,
 "nbformat_minor": 0,
 "worksheets": [
  {
   "cells": [
    {
     "cell_type": "heading",
     "level": 1,
     "metadata": {},
     "source": [
      "Problem 37\n"
     ]
    },
    {
     "cell_type": "markdown",
     "metadata": {},
     "source": [
      "\n",
      "The number 3797 has an interesting property. Being prime itself, it is possible to continuously remove digits from left to right, and remain prime at each stage: 3797, 797, 97, and 7. Similarly we can work from right to left: 3797, 379, 37, and 3.\n",
      "\n",
      "Find the sum of the only eleven primes that are both truncatable from left to right and right to left.\n",
      "\n",
      "NOTE: 2, 3, 5, and 7 are not considered to be truncatable primes."
     ]
    },
    {
     "cell_type": "code",
     "collapsed": false,
     "input": [
      "def primes_sieve(limit):\n",
      "    a = [True] * limit                        # initialize the primality list\n",
      "    a[0] = a[1] = False\n",
      "    for (i, isprime) in enumerate(a):\n",
      "        if isprime:\n",
      "            yield i\n",
      "            for n in xrange(i*i, limit, i):     # mark factors non-prime\n",
      "                a[n] = False\n",
      "                \n",
      "def is_prime(n):\n",
      "    if n == 1:\n",
      "        return False\n",
      "    for i in xrange(2,int((abs(n)**0.5))+1):\n",
      "        if n%i == 0:\n",
      "            return False\n",
      "    return True\n",
      "\n",
      "def truncate(s):\n",
      "    for i in xrange(1,len(s)):\n",
      "        if not is_prime(int(s[i:])) or not is_prime(int(s[:-i])):\n",
      "            return False\n",
      "            break\n",
      "    return True\n",
      "            "
     ],
     "language": "python",
     "metadata": {},
     "outputs": [],
     "prompt_number": 7
    },
    {
     "cell_type": "code",
     "collapsed": false,
     "input": [
      "found = []\n",
      "for i in primes_sieve(10000000):\n",
      "    if i > 10:\n",
      "        if truncate(str(i)):\n",
      "            found.append(i)\n",
      "            if len(found) == 11:\n",
      "                break\n",
      "        "
     ],
     "language": "python",
     "metadata": {},
     "outputs": [],
     "prompt_number": 8
    },
    {
     "cell_type": "code",
     "collapsed": false,
     "input": [
      "sum(found)"
     ],
     "language": "python",
     "metadata": {},
     "outputs": [
      {
       "metadata": {},
       "output_type": "pyout",
       "prompt_number": 10,
       "text": [
        "748317"
       ]
      }
     ],
     "prompt_number": 10
    },
    {
     "cell_type": "code",
     "collapsed": false,
     "input": [],
     "language": "python",
     "metadata": {},
     "outputs": []
    }
   ],
   "metadata": {}
  }
 ]
}