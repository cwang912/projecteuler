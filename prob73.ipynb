{
 "metadata": {
  "name": "",
  "signature": "sha256:9d45f7ed76f83c5bcfd2e35842244af579b5a721e0ef2bb9ae7d2305e1b6522e"
 },
 "nbformat": 3,
 "nbformat_minor": 0,
 "worksheets": [
  {
   "cells": [
    {
     "cell_type": "heading",
     "level": 1,
     "metadata": {},
     "source": [
      "Problem 73"
     ]
    },
    {
     "cell_type": "code",
     "collapsed": false,
     "input": [
      "def prime_factors(limit):\n",
      "    a = range(1,limit+1)\n",
      "    b = dict()\n",
      "    for i in a:\n",
      "        b[i] = []\n",
      "    for i in xrange(2,limit):\n",
      "        if b[i] == []: # if it's prime\n",
      "            for j in xrange(i*2,limit+1,i):\n",
      "                b[j].append(i)\n",
      "    return b"
     ],
     "language": "python",
     "metadata": {},
     "outputs": [],
     "prompt_number": 2
    },
    {
     "cell_type": "code",
     "collapsed": false,
     "input": [
      "def relative_primes(num,p):\n",
      "#     a = range(1,num+1)\n",
      "    b = [True]*num\n",
      "    b[0] = False\n",
      "    for i in p:\n",
      "        for n in xrange(i, num, i):     # mark factors non-prime\n",
      "            b[n] = False\n",
      "    for i,j in enumerate(b):\n",
      "        if j:\n",
      "            yield i\n",
      "#     return b"
     ],
     "language": "python",
     "metadata": {},
     "outputs": [],
     "prompt_number": 3
    },
    {
     "cell_type": "code",
     "collapsed": false,
     "input": [
      "def relative_primes_in_range(num,p):\n",
      "    count = 0\n",
      "    b = [True]*num\n",
      "    b[0] = False\n",
      "    for i in p:\n",
      "        for n in xrange(i, num, i):     # mark factors non-prime\n",
      "            b[n] = False\n",
      "    for i,j in enumerate(b):\n",
      "        if j:\n",
      "            if float(i)/num > 1.0/3:\n",
      "                if float(i)/num < 1.0/2:\n",
      "                    count += 1\n",
      "                else:\n",
      "                    break\n",
      "    return count"
     ],
     "language": "python",
     "metadata": {},
     "outputs": [],
     "prompt_number": 4
    },
    {
     "cell_type": "code",
     "collapsed": false,
     "input": [
      "total = 0\n",
      "P = prime_factors(12000)\n",
      "for i in P:\n",
      "    total += relative_primes_in_range(i,P[i])\n",
      "print total"
     ],
     "language": "python",
     "metadata": {},
     "outputs": []
    }
   ],
   "metadata": {}
  }
 ]
}