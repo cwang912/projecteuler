{
 "metadata": {
  "name": "",
  "signature": "sha256:b0c378f4892c528a1208e7d9681f92c75ab1733844f6499eeb22db4094fc2579"
 },
 "nbformat": 3,
 "nbformat_minor": 0,
 "worksheets": [
  {
   "cells": [
    {
     "cell_type": "code",
     "collapsed": false,
     "input": [
      "inp = [[8,0,0,4,0,6,0,0,7],\n",
      "       [0,0,0,0,0,0,4,0,0],\n",
      "       [0,1,0,0,0,0,6,5,0],\n",
      "       [5,0,9,0,3,0,7,8,0],\n",
      "       [0,0,0,0,7,0,0,0,0],\n",
      "       [0,4,8,0,2,0,1,0,3],\n",
      "       [0,5,2,0,0,0,0,9,0],\n",
      "       [0,0,1,0,0,0,0,0,0],\n",
      "       [3,0,0,9,0,2,0,0,5]]\n",
      "\n",
      "sud = inp"
     ],
     "language": "python",
     "metadata": {},
     "outputs": [],
     "prompt_number": 131
    },
    {
     "cell_type": "code",
     "collapsed": false,
     "input": [
      "print 7+7+5+5+6+5+5+7+7"
     ],
     "language": "python",
     "metadata": {},
     "outputs": [
      {
       "output_type": "stream",
       "stream": "stdout",
       "text": [
        "54\n"
       ]
      }
     ],
     "prompt_number": 45
    },
    {
     "cell_type": "code",
     "collapsed": false,
     "input": [
      "# inp = [[8,0,0,4,0,6,0,0,7],\n",
      "#        [0,0,0,0,0,0,4,0,0],\n",
      "#        [0,1,0,0,0,0,6,5,0],\n",
      "#        [5,0,9,0,3,0,7,8,0],\n",
      "#        [0,0,0,0,7,0,0,0,0],\n",
      "#        [0,4,8,0,2,0,1,0,3],\n",
      "#        [0,5,2,0,0,0,0,9,0],\n",
      "#        [0,0,1,0,0,0,0,0,0],\n",
      "#        [3,0,0,9,0,2,0,0,5]]\n",
      "\n",
      "inp = [[0,6,0,0,0,7,5,2,0],\n",
      "       [0,0,0,9,0,0,6,0,0],\n",
      "       [1,0,0,0,0,0,8,0,7],\n",
      "       [0,0,0,3,0,0,0,1,2],\n",
      "       [0,0,3,5,0,1,4,0,0],\n",
      "       [4,2,0,0,0,8,0,0,0],\n",
      "       [5,0,8,0,0,0,0,0,6],\n",
      "       [0,0,7,0,0,9,0,0,0],\n",
      "       [0,9,6,4,0,0,0,8,0]]\n",
      "\n",
      "sud = inp\n",
      "\n",
      "# find next zero\n",
      "def next_num(row_index,col_index,board):\n",
      "    found = False\n",
      "    while found == False:\n",
      "        if board[row_index][col_index] == 0:\n",
      "            return row_index, col_index\n",
      "            found = True\n",
      "            break\n",
      "        if row_index < 8:\n",
      "            row_index += 1\n",
      "        elif col_index < 8:\n",
      "            row_index = 0\n",
      "            col_index += 1\n",
      "        else:\n",
      "            row_index = 0\n",
      "            col_index = 0\n",
      "        \n",
      "# looks at box -- if it CAN be num, then return 1\n",
      "def check_box(row_index,col_index,board,num):\n",
      "    for r_index in xrange(row_index/3*3,row_index/3*3+3):\n",
      "        for c_index in xrange(col_index/3*3,col_index/3*3+3):\n",
      "            if board[r_index][c_index] == num:\n",
      "                return 0\n",
      "                break\n",
      "    return 1 \n",
      "   \n",
      "# looks at column -- if it CAN be num, then return 1\n",
      "def check_col(col_index,board,num):\n",
      "    for row_index in xrange(0,9):\n",
      "        if board[row_index][col_index] == num:\n",
      "            return 0\n",
      "            break\n",
      "    return 1\n",
      "\n",
      "# looks at row -- if it CAN be num, then return 1\n",
      "def check_row(row_index,board,num):\n",
      "    for col_index in xrange(0,9):\n",
      "        if board[row_index][col_index] == num:\n",
      "            return 0\n",
      "            break\n",
      "    return 1\n",
      "\n",
      "# solver function\n",
      "def solve(board):\n",
      "\n",
      "    # if board filled in completely\n",
      "    if sum(map(sum,board)) == 405:\n",
      "        print board\n",
      "        return True\n",
      "    else:\n",
      "        # find the next empty square\n",
      "        row_index, col_index = next_num(0, 0, board)\n",
      "        # check each possible number, 1-9\n",
      "        for num in xrange(1,10):\n",
      "            # if it can be that number (i.e. clears box, row, col)\n",
      "            if check_box(row_index,col_index,board,num) == 1 and \\\n",
      "               check_col(col_index,board,num) == 1 and \\\n",
      "               check_row(row_index,board,num) == 1:    \n",
      "                # set the square to the value\n",
      "                board[row_index][col_index] = num \n",
      "                # recursively continue\n",
      "                solve(board)\n",
      "                # if fails down the line, reset the value to 0 and continue\n",
      "                board[row_index][col_index] = 0 \n",
      "        return False\n",
      "        \n",
      "\n",
      " \n",
      "done = solve(sud)\n",
      "    "
     ],
     "language": "python",
     "metadata": {},
     "outputs": [],
     "prompt_number": 166
    },
    {
     "cell_type": "code",
     "collapsed": false,
     "input": [
      "done"
     ],
     "language": "python",
     "metadata": {},
     "outputs": [
      {
       "metadata": {},
       "output_type": "pyout",
       "prompt_number": 168,
       "text": [
        "False"
       ]
      }
     ],
     "prompt_number": 168
    },
    {
     "cell_type": "code",
     "collapsed": false,
     "input": [
      "check_col(0,sud,9)"
     ],
     "language": "python",
     "metadata": {},
     "outputs": [
      {
       "metadata": {},
       "output_type": "pyout",
       "prompt_number": 143,
       "text": [
        "1"
       ]
      }
     ],
     "prompt_number": 143
    },
    {
     "cell_type": "code",
     "collapsed": false,
     "input": [
      "def solve2(sud):\n",
      "    x = []\n",
      "    y = []\n",
      "    v = []\n",
      "    for i in xrange(0,9):\n",
      "        for j in xrange(0,9):\n",
      "            if sud[i][j] != 0:\n",
      "                x.append(j)\n",
      "                y.append(i)\n",
      "                v.append(sud[i][j])\n",
      "    done = False\n",
      "    ind = 0\n",
      "    while done == False:\n",
      "        \n",
      "        "
     ],
     "language": "python",
     "metadata": {},
     "outputs": [
      {
       "metadata": {},
       "output_type": "pyout",
       "prompt_number": 5,
       "text": [
        "2"
       ]
      }
     ],
     "prompt_number": 5
    },
    {
     "cell_type": "code",
     "collapsed": false,
     "input": [
      "a = list([1,2,3,4])"
     ],
     "language": "python",
     "metadata": {},
     "outputs": [],
     "prompt_number": 75
    },
    {
     "cell_type": "code",
     "collapsed": false,
     "input": [
      "b = [[1,2],[2,3]]"
     ],
     "language": "python",
     "metadata": {},
     "outputs": [],
     "prompt_number": 111
    },
    {
     "cell_type": "code",
     "collapsed": false,
     "input": [
      "sum(map(sum,b))"
     ],
     "language": "python",
     "metadata": {},
     "outputs": [
      {
       "metadata": {},
       "output_type": "pyout",
       "prompt_number": 118,
       "text": [
        "8"
       ]
      }
     ],
     "prompt_number": 118
    },
    {
     "cell_type": "code",
     "collapsed": false,
     "input": [
      "45*9"
     ],
     "language": "python",
     "metadata": {},
     "outputs": [
      {
       "metadata": {},
       "output_type": "pyout",
       "prompt_number": 120,
       "text": [
        "405"
       ]
      }
     ],
     "prompt_number": 120
    },
    {
     "cell_type": "code",
     "collapsed": false,
     "input": [
      "x = xrange(0,4)\n",
      "print x"
     ],
     "language": "python",
     "metadata": {},
     "outputs": [
      {
       "output_type": "stream",
       "stream": "stdout",
       "text": [
        "xrange(4)\n"
       ]
      }
     ],
     "prompt_number": 12
    },
    {
     "cell_type": "code",
     "collapsed": false,
     "input": [
      "x.remove(3)"
     ],
     "language": "python",
     "metadata": {},
     "outputs": [
      {
       "ename": "AttributeError",
       "evalue": "'xrange' object has no attribute 'remove'",
       "output_type": "pyerr",
       "traceback": [
        "\u001b[0;31m---------------------------------------------------------------------------\u001b[0m\n\u001b[0;31mAttributeError\u001b[0m                            Traceback (most recent call last)",
        "\u001b[0;32m<ipython-input-13-1f3a3d2d6a0b>\u001b[0m in \u001b[0;36m<module>\u001b[0;34m()\u001b[0m\n\u001b[0;32m----> 1\u001b[0;31m \u001b[0mx\u001b[0m\u001b[0;34m.\u001b[0m\u001b[0mremove\u001b[0m\u001b[0;34m(\u001b[0m\u001b[0;36m3\u001b[0m\u001b[0;34m)\u001b[0m\u001b[0;34m\u001b[0m\u001b[0m\n\u001b[0m",
        "\u001b[0;31mAttributeError\u001b[0m: 'xrange' object has no attribute 'remove'"
       ]
      }
     ],
     "prompt_number": 13
    },
    {
     "cell_type": "code",
     "collapsed": false,
     "input": [
      "4/3*3"
     ],
     "language": "python",
     "metadata": {},
     "outputs": [
      {
       "metadata": {},
       "output_type": "pyout",
       "prompt_number": 72,
       "text": [
        "3"
       ]
      }
     ],
     "prompt_number": 72
    },
    {
     "cell_type": "code",
     "collapsed": false,
     "input": [],
     "language": "python",
     "metadata": {},
     "outputs": []
    }
   ],
   "metadata": {}
  }
 ]
}