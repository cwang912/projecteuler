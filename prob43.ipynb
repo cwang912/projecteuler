{
 "metadata": {
  "name": "",
  "signature": "sha256:30b057924c0d467dffb065e345d1f2df522f130eef7a50959656d49e352473d1"
 },
 "nbformat": 3,
 "nbformat_minor": 0,
 "worksheets": [
  {
   "cells": [
    {
     "cell_type": "heading",
     "level": 1,
     "metadata": {},
     "source": [
      "Problem 43"
     ]
    },
    {
     "cell_type": "markdown",
     "metadata": {},
     "source": [
      "\n",
      "The number, 1406357289, is a 0 to 9 pandigital number because it is made up of each of the digits 0 to 9 in some order, but it also has a rather interesting sub-string divisibility property.\n",
      "\n",
      "Let d1 be the 1st digit, d2 be the 2nd digit, and so on. In this way, we note the following:\n",
      "\n",
      "d2d3d4=406 is divisible by 2\n",
      "\n",
      "d3d4d5=063 is divisible by 3\n",
      "\n",
      "d4d5d6=635 is divisible by 5\n",
      "\n",
      "d5d6d7=357 is divisible by 7\n",
      "\n",
      "d6d7d8=572 is divisible by 11\n",
      "\n",
      "d7d8d9=728 is divisible by 13\n",
      "\n",
      "d8d9d10=289 is divisible by 17\n",
      "\n",
      "Find the sum of all 0 to 9 pandigital numbers with this property."
     ]
    },
    {
     "cell_type": "code",
     "collapsed": false,
     "input": [
      "def permute(nums,s):\n",
      "    if nums:\n",
      "        for i in xrange(len(nums)):\n",
      "             for p in permute(nums[:i]+nums[i+1:],s+nums[i]):\n",
      "                yield p\n",
      "    else:\n",
      "        yield s\n",
      "        \n",
      "def check(s):\n",
      "    nums = [2,3,5,7,11,13,17]\n",
      "    for i in xrange(0,7):\n",
      "        if int(s[i+1:i+4]) % nums[i] != 0:\n",
      "            return False\n",
      "    return True"
     ],
     "language": "python",
     "metadata": {},
     "outputs": [],
     "prompt_number": 18
    },
    {
     "cell_type": "code",
     "collapsed": false,
     "input": [
      "nums = []\n",
      "\n",
      "for i in permute('1234567890',''):\n",
      "    if check(i):\n",
      "        nums.append(int(i))\n",
      "        print i"
     ],
     "language": "python",
     "metadata": {},
     "outputs": [
      {
       "output_type": "stream",
       "stream": "stdout",
       "text": [
        "1430952867\n",
        "1460357289"
       ]
      },
      {
       "output_type": "stream",
       "stream": "stdout",
       "text": [
        "\n",
        "1406357289"
       ]
      },
      {
       "output_type": "stream",
       "stream": "stdout",
       "text": [
        "\n",
        "4130952867"
       ]
      },
      {
       "output_type": "stream",
       "stream": "stdout",
       "text": [
        "\n",
        "4160357289"
       ]
      },
      {
       "output_type": "stream",
       "stream": "stdout",
       "text": [
        "\n",
        "4106357289"
       ]
      },
      {
       "output_type": "stream",
       "stream": "stdout",
       "text": [
        "\n"
       ]
      }
     ],
     "prompt_number": 21
    },
    {
     "cell_type": "code",
     "collapsed": false,
     "input": [
      "sum(nums)"
     ],
     "language": "python",
     "metadata": {},
     "outputs": [
      {
       "metadata": {},
       "output_type": "pyout",
       "prompt_number": 23,
       "text": [
        "16695334890"
       ]
      }
     ],
     "prompt_number": 23
    },
    {
     "cell_type": "code",
     "collapsed": false,
     "input": [],
     "language": "python",
     "metadata": {},
     "outputs": []
    }
   ],
   "metadata": {}
  }
 ]
}