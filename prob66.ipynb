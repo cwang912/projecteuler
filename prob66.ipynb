{
 "metadata": {
  "name": "",
  "signature": "sha256:46bafb72737ae4ea717d3aa4f9ad2b0851e209a66527d01ded97e0dcc7e4a758"
 },
 "nbformat": 3,
 "nbformat_minor": 0,
 "worksheets": [
  {
   "cells": [
    {
     "cell_type": "heading",
     "level": 1,
     "metadata": {},
     "source": [
      "Problem 66"
     ]
    },
    {
     "cell_type": "markdown",
     "metadata": {},
     "source": [
      "Consider quadratic Diophantine equations of the form:\n",
      "\n",
      "x2 \u2013 Dy2 = 1\n",
      "\n",
      "For example, when D=13, the minimal solution in x is 6492 \u2013 13\u00d71802 = 1.\n",
      "\n",
      "It can be assumed that there are no solutions in positive integers when D is square.\n",
      "\n",
      "By finding minimal solutions in x for D = {2, 3, 5, 6, 7}, we obtain the following:\n",
      "\n",
      "3^2 \u2013 2\u00d722 = 1\n",
      "\n",
      "2^2 \u2013 3\u00d712 = 1\n",
      "\n",
      "9^2 \u2013 5\u00d742 = 1\n",
      "\n",
      "5^2 \u2013 6\u00d722 = 1\n",
      "\n",
      "8^2 \u2013 7\u00d732 = 1\n",
      "\n",
      "Hence, by considering minimal solutions in x for D \u2264 7, the largest x is obtained when D=5.\n",
      "\n",
      "Find the value of D \u2264 1000 in minimal solutions of x for which the largest value of x is obtained.\n",
      "\n",
      " "
     ]
    },
    {
     "cell_type": "code",
     "collapsed": false,
     "input": [
      "def check_square(n):\n",
      "    if n**0.5 == int(n**0.5):\n",
      "        return True\n",
      "    else:\n",
      "        return False\n",
      "\n",
      "i = 1\n",
      "j = i**2\n",
      "d = 1\n",
      "max_x = 0\n",
      "max_d = 0\n",
      "max_y = 0\n",
      "while d <= 101:\n",
      "    if d == j:\n",
      "        i += 1\n",
      "        j = i**2\n",
      "    else:\n",
      "        y = 1\n",
      "        while not check_square(1+d*y**2):\n",
      "            y += 1\n",
      "        x = (1+d*y**2)**0.5\n",
      "        if x > max_x:\n",
      "            max_x = x\n",
      "            max_d = d\n",
      "            max_y = y\n",
      "        print d,int(x),y\n",
      "    d += 1"
     ],
     "language": "python",
     "metadata": {},
     "outputs": [
      {
       "output_type": "stream",
       "stream": "stdout",
       "text": [
        "2 3 2\n",
        "3 2 1\n",
        "5 9 4\n",
        "6 5 2\n",
        "7 8 3\n",
        "8 3 1\n",
        "10 19 6\n",
        "11 10 3\n",
        "12 7 2\n",
        "13 649 180\n",
        "14 15 4\n",
        "15 4 1\n",
        "17 33 8\n",
        "18 17 4\n",
        "19 170 39\n",
        "20 9 2\n",
        "21 55 12\n",
        "22 197 42\n",
        "23 24 5\n",
        "24 5 1\n",
        "26 51 10\n",
        "27 26 5\n",
        "28 127 24\n",
        "29 9801 1820\n",
        "30 11 2\n",
        "31 1520 273\n",
        "32 17 3\n",
        "33 23 4\n",
        "34 35 6\n",
        "35 6 1\n",
        "37 73 12\n",
        "38 37 6\n",
        "39 25 4\n",
        "40 19 3\n",
        "41 2049 320\n",
        "42 13 2\n",
        "43 3482 531\n",
        "44 199 30\n",
        "45 161 24\n",
        "46 24335 3588\n",
        "47 48 7\n",
        "48 7 1\n",
        "50 99 14\n",
        "51 50 7\n",
        "52 649 90\n",
        "53 66249 9100\n",
        "54 485 66\n",
        "55 89 12\n",
        "56 15 2\n",
        "57 151 20\n",
        "58 19603 2574\n",
        "59 530 69\n",
        "60 31 4\n",
        "61"
       ]
      },
      {
       "output_type": "stream",
       "stream": "stdout",
       "text": [
        " 335159612 42912791\n",
        "62 63 8\n",
        "63 8 1\n",
        "65 129 16\n",
        "66 65 8\n",
        "67 48842 5967\n",
        "68 33 4\n",
        "69 7775 936\n",
        "70 251 30\n",
        "71 3480 413\n",
        "72 17 2\n",
        "73"
       ]
      },
      {
       "output_type": "stream",
       "stream": "stdout",
       "text": [
        " 2281249 267000\n",
        "74 3699 430\n",
        "75 26 3\n",
        "76 57799 6630\n",
        "77 351 40\n",
        "78 53 6\n",
        "79 80 9\n",
        "80 9 1\n",
        "82 163 18\n",
        "83 82 9\n",
        "84 55 6\n",
        "85 285769 30996\n",
        "86 10405 1122\n",
        "87 28 3\n",
        "88 197 21\n",
        "89"
       ]
      },
      {
       "output_type": "stream",
       "stream": "stdout",
       "text": [
        " 500001 53000\n",
        "90 19 2\n",
        "91 1574 165\n",
        "92 1151 120\n",
        "93 12151 1260\n",
        "94"
       ]
      },
      {
       "output_type": "stream",
       "stream": "stdout",
       "text": [
        " 2143295 221064\n",
        "95 39 4\n",
        "96 49 5\n",
        "97"
       ]
      },
      {
       "output_type": "stream",
       "stream": "stdout",
       "text": [
        " 62809633 6377352\n",
        "98 99 10\n",
        "99 10 1\n",
        "101 201 20\n"
       ]
      }
     ],
     "prompt_number": 15
    },
    {
     "cell_type": "code",
     "collapsed": false,
     "input": [
      "def gcd(u, v):\n",
      "    return gcd(v, u%v) if v else abs(u)\n",
      "\n",
      "def advance(a,m,d,S,a0):\n",
      "    m1 = d*a-m\n",
      "    d1 = (S-m1**2)/d\n",
      "    a1 = (a0+m1)/d1\n",
      "    return a1,m1,d1\n",
      "\n",
      "def frac(S):\n",
      "    a0,m,d = int(S**0.5),0,1\n",
      "    a,m,d = advance(a0,m,d,S,a0)\n",
      "    A = [a0,a]\n",
      "    while a != 2*a0:\n",
      "        a,m,d = advance(a,m,d,S,a0)\n",
      "        A.append(a)\n",
      "    return A\n",
      "\n",
      "def make_frac(a):\n",
      "    n = 1\n",
      "    d = a[-1]\n",
      "    for i in a[-2:0:-1]:\n",
      "        n,d = d,i*d+n\n",
      "    return n+d*a[0],d\n",
      "\n",
      "def find(a,d):\n",
      "    i = 0\n",
      "    found = False\n",
      "    nums = a[1:]\n",
      "    digits = a[0:1]\n",
      "    \n",
      "    while found == False:\n",
      "        x,y = make_frac(digits)\n",
      "        if x**2-d*y**2 == 1:\n",
      "            found = True\n",
      "        else:\n",
      "            digits.append(nums[i%len(nums)])\n",
      "            i += 1\n",
      "    return x,y"
     ],
     "language": "python",
     "metadata": {},
     "outputs": [],
     "prompt_number": 164
    },
    {
     "cell_type": "code",
     "collapsed": false,
     "input": [
      "X = 0\n",
      "D = 0\n",
      "Y = 0\n",
      "for i in xrange(1,1001):\n",
      "    if int(i**0.5) != i**0.5:\n",
      "        x,y = find(frac(i),i)\n",
      "        if x > X:\n",
      "            D = i\n",
      "            X = x\n",
      "            Y = y\n",
      "print D,X,Y        "
     ],
     "language": "python",
     "metadata": {},
     "outputs": [
      {
       "output_type": "stream",
       "stream": "stdout",
       "text": [
        "661 16421658242965910275055840472270471049 638728478116949861246791167518480580\n"
       ]
      }
     ],
     "prompt_number": 168
    }
   ],
   "metadata": {}
  }
 ]
}