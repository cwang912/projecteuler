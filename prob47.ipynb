{
 "metadata": {
  "name": "",
  "signature": "sha256:f5fc887654cb19820cfee03f55ac15ad8bffdf418e4a5eb6e5577ff182cae8a1"
 },
 "nbformat": 3,
 "nbformat_minor": 0,
 "worksheets": [
  {
   "cells": [
    {
     "cell_type": "heading",
     "level": 1,
     "metadata": {},
     "source": [
      "Problem 47"
     ]
    },
    {
     "cell_type": "markdown",
     "metadata": {},
     "source": [
      "\n",
      "The first two consecutive numbers to have two distinct prime factors are:\n",
      "\n",
      "14 = 2 \u00d7 7\n",
      "\n",
      "15 = 3 \u00d7 5\n",
      "\n",
      "The first three consecutive numbers to have three distinct prime factors are:\n",
      "\n",
      "644 = 2\u00b2 \u00d7 7 \u00d7 23\n",
      "\n",
      "645 = 3 \u00d7 5 \u00d7 43\n",
      "\n",
      "646 = 2 \u00d7 17 \u00d7 19.\n",
      "\n",
      "Find the first four consecutive integers to have four distinct prime factors. What is the first of these numbers?"
     ]
    },
    {
     "cell_type": "code",
     "collapsed": false,
     "input": [
      "def primes_sieve(limit):\n",
      "    a = [True] * limit                        # initialize the primality list\n",
      "    a[0] = a[1] = False\n",
      "    for (i, isprime) in enumerate(a):\n",
      "        if isprime:\n",
      "            yield i\n",
      "            for n in xrange(i*i, limit, i):     # mark factors non-prime\n",
      "                a[n] = False\n",
      "         \n",
      "sieve = list(primes_sieve(1000000/2))\n",
      "\n",
      "def prime_factor(n,sieve):\n",
      "    facts = set()\n",
      "    for i in sieve:\n",
      "        if n % i == 0:\n",
      "            facts.add(i)\n",
      "        if i > int(n/2)+1:\n",
      "            break\n",
      "    return facts"
     ],
     "language": "python",
     "metadata": {},
     "outputs": [],
     "prompt_number": 69
    },
    {
     "cell_type": "code",
     "collapsed": false,
     "input": [
      "count = 0\n",
      "for i in xrange(1000,1000000):\n",
      "    n = len(prime_factor(i,sieve))\n",
      "    if n == 4:\n",
      "        count += 1\n",
      "        if count == 4:\n",
      "            print i-3\n",
      "            break\n",
      "    else:\n",
      "        count = 0"
     ],
     "language": "python",
     "metadata": {},
     "outputs": [
      {
       "output_type": "stream",
       "stream": "stdout",
       "text": [
        "CPU times: user 15 \u00b5s, sys: 0 ns, total: 15 \u00b5s\n",
        "Wall time: 22.9 \u00b5s\n",
        "134043"
       ]
      },
      {
       "output_type": "stream",
       "stream": "stdout",
       "text": [
        "\n"
       ]
      }
     ],
     "prompt_number": 84
    }
   ],
   "metadata": {}
  }
 ]
}