{
 "metadata": {
  "name": "",
  "signature": "sha256:627511df3b3dcbd7808affe8b75e18d5ef174812fce65ff906b5cff488a45144"
 },
 "nbformat": 3,
 "nbformat_minor": 0,
 "worksheets": [
  {
   "cells": [
    {
     "cell_type": "heading",
     "level": 1,
     "metadata": {},
     "source": [
      "Problem 52\n"
     ]
    },
    {
     "cell_type": "markdown",
     "metadata": {},
     "source": [
      "\n",
      "It can be seen that the number, 125874, and its double, 251748, contain exactly the same digits, but in a different order.\n",
      "\n",
      "Find the smallest positive integer, x, such that 2x, 3x, 4x, 5x, and 6x, contain the same digits."
     ]
    },
    {
     "cell_type": "code",
     "collapsed": false,
     "input": [
      "num = 1\n",
      "while True:\n",
      "    s = sorted(str(num))\n",
      "    for i in xrange(2,7):\n",
      "        if s != sorted(str(i*num)):\n",
      "            break\n",
      "    if i == 6:\n",
      "        print num\n",
      "        break\n",
      "    num += 1"
     ],
     "language": "python",
     "metadata": {},
     "outputs": [
      {
       "output_type": "stream",
       "stream": "stdout",
       "text": [
        "142857\n"
       ]
      }
     ],
     "prompt_number": 1
    },
    {
     "cell_type": "code",
     "collapsed": false,
     "input": [
      "for i in xrange(1,7):\n",
      "    print i*142857 "
     ],
     "language": "python",
     "metadata": {},
     "outputs": [
      {
       "output_type": "stream",
       "stream": "stdout",
       "text": [
        "142857\n",
        "285714\n",
        "428571\n",
        "571428\n",
        "714285\n",
        "857142\n"
       ]
      }
     ],
     "prompt_number": 12
    }
   ],
   "metadata": {}
  }
 ]
}