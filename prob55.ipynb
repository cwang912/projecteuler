{
 "metadata": {
  "name": "",
  "signature": "sha256:d38ff47abb3686aed6db443ca74156b30de09f6c0965f3961c574e8b15621029"
 },
 "nbformat": 3,
 "nbformat_minor": 0,
 "worksheets": [
  {
   "cells": [
    {
     "cell_type": "heading",
     "level": 1,
     "metadata": {},
     "source": [
      "Problem 55\n"
     ]
    },
    {
     "cell_type": "markdown",
     "metadata": {},
     "source": [
      "\n",
      "If we take 47, reverse and add, 47 + 74 = 121, which is palindromic.\n",
      "\n",
      "Not all numbers produce palindromes so quickly. For example,\n",
      "\n",
      "349 + 943 = 1292,\n",
      "\n",
      "1292 + 2921 = 4213\n",
      "\n",
      "4213 + 3124 = 7337\n",
      "\n",
      "That is, 349 took three iterations to arrive at a palindrome.\n",
      "\n",
      "Although no one has proved it yet, it is thought that some numbers, like 196, never produce a palindrome. A number that never forms a palindrome through the reverse and add process is called a Lychrel number. Due to the theoretical nature of these numbers, and for the purpose of this problem, we shall assume that a number is Lychrel until proven otherwise. In addition you are given that for every number below ten-thousand, it will either (i) become a palindrome in less than fifty iterations, or, (ii) no one, with all the computing power that exists, has managed so far to map it to a palindrome. In fact, 10677 is the first number to be shown to require over fifty iterations before producing a palindrome: 4668731596684224866951378664 (53 iterations, 28-digits).\n",
      "\n",
      "Surprisingly, there are palindromic numbers that are themselves Lychrel numbers; the first example is 4994.\n",
      "\n",
      "How many Lychrel numbers are there below ten-thousand?\n",
      "\n",
      "NOTE: Wording was modified slightly on 24 April 2007 to emphasise the theoretical nature of Lychrel numbers."
     ]
    },
    {
     "cell_type": "code",
     "collapsed": false,
     "input": [
      "def check_pal(num):\n",
      "    if num == num[::-1]:\n",
      "        return True\n",
      "    else: return False"
     ],
     "language": "python",
     "metadata": {},
     "outputs": [],
     "prompt_number": 1
    },
    {
     "cell_type": "code",
     "collapsed": false,
     "input": [
      "lych = []\n",
      "for i in xrange(1,10000):\n",
      "    m = i\n",
      "    add = True\n",
      "    for j in xrange(0,50):\n",
      "        m += int(str(m)[::-1])\n",
      "        if check_pal(str(m)):\n",
      "            add = False\n",
      "            break\n",
      "    if add:\n",
      "        lych.append(i)\n",
      "print len(lych)  "
     ],
     "language": "python",
     "metadata": {},
     "outputs": [
      {
       "output_type": "stream",
       "stream": "stdout",
       "text": [
        "249\n"
       ]
      }
     ],
     "prompt_number": 18
    }
   ],
   "metadata": {}
  }
 ]
}