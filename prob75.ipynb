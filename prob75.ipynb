{
 "metadata": {
  "name": "",
  "signature": "sha256:3635ac5e4bb12c2a8d5a766f84a8425cf23ec7b0c485682762d82b4c97b89613"
 },
 "nbformat": 3,
 "nbformat_minor": 0,
 "worksheets": [
  {
   "cells": [
    {
     "cell_type": "heading",
     "level": 1,
     "metadata": {},
     "source": [
      "Problem 75"
     ]
    },
    {
     "cell_type": "code",
     "collapsed": false,
     "input": [
      "def pyth(N):\n",
      "    L = dict()\n",
      "    Q = [(3,4,5)]\n",
      "    pop = Q.pop\n",
      "    while Q:\n",
      "        a, b, c = pop()\n",
      "        sumabc = a + b + c\n",
      "        if sumabc <= N:\n",
      "            a2, b2, c2, c3 = 2*a, 2*b, 2*c, 3*c\n",
      "            p1 = (-a+b2+c2, -a2+b+c2, -a2+b2+c3)\n",
      "            p2 = ( a+b2+c2,  a2+b+c2,  a2+b2+c3)\n",
      "            p3 = ( a-b2+c2,  a2-b+c2,  a2-b2+c3)\n",
      "            Q += [p1, p2, p3]\n",
      "            for i in xrange(0,N/sumabc):\n",
      "                try:\n",
      "                    L[sumabc*(i+1)] += 1\n",
      "                except:\n",
      "                    L[sumabc*(i+1)] = 1\n",
      "    return L "
     ],
     "language": "python",
     "metadata": {},
     "outputs": [],
     "prompt_number": 51
    },
    {
     "cell_type": "code",
     "collapsed": false,
     "input": [
      "%%timeit\n",
      "\n",
      "def gcd(u, v):\n",
      "    return gcd(v, u % v) if v else abs(u)\n",
      "\n",
      "def triples(N):\n",
      "    tri = dict()\n",
      "    for m in xrange(2,N):\n",
      "        for n in xrange(1,x):\n",
      "            if (m+n)%2==1 and gcd(m,n)==1:\n",
      "                a,b,c = m**2+n**2, m**2-n**2, 2*m*n\n",
      "                p = a+b+c\n",
      "                while p < N:\n",
      "                    try:\n",
      "                        tri[p] += 1\n",
      "                    except:\n",
      "                        tri[p] = 1\n",
      "                    p += a+b+c\n",
      "    return tri\n",
      "\n",
      "L = triples(1500000)"
     ],
     "language": "python",
     "metadata": {},
     "outputs": [
      {
       "output_type": "stream",
       "stream": "stdout",
       "text": [
        "1 loops, best of 3: 12.7 s per loop\n"
       ]
      }
     ],
     "prompt_number": 66
    },
    {
     "cell_type": "code",
     "collapsed": false,
     "input": [
      "%%timeit\n",
      "L = pyth(1500000)\n",
      "\n",
      "count = 0\n",
      "for i in L:\n",
      "    if L[i] == 1:\n",
      "        count += 1\n",
      "print count"
     ],
     "language": "python",
     "metadata": {},
     "outputs": [
      {
       "output_type": "stream",
       "stream": "stdout",
       "text": [
        "161667\n",
        "161667"
       ]
      },
      {
       "output_type": "stream",
       "stream": "stdout",
       "text": [
        "\n",
        "161667"
       ]
      },
      {
       "output_type": "stream",
       "stream": "stdout",
       "text": [
        "\n",
        "161667"
       ]
      },
      {
       "output_type": "stream",
       "stream": "stdout",
       "text": [
        "\n",
        "1 loops, best of 3: 1.2 s per loop\n"
       ]
      }
     ],
     "prompt_number": 67
    }
   ],
   "metadata": {}
  }
 ]
}