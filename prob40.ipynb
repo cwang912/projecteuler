{
 "metadata": {
  "name": "",
  "signature": "sha256:c20f9e290fa574819bf5af7a233162e06c00a7ee71f3a6b82ad4bace9d8650f5"
 },
 "nbformat": 3,
 "nbformat_minor": 0,
 "worksheets": [
  {
   "cells": [
    {
     "cell_type": "heading",
     "level": 1,
     "metadata": {},
     "source": [
      "Problem 40"
     ]
    },
    {
     "cell_type": "markdown",
     "metadata": {},
     "source": [
      "\n",
      "An irrational decimal fraction is created by concatenating the positive integers:\n",
      "\n",
      "0.123456789101112131415161718192021...\n",
      "\n",
      "It can be seen that the 12th digit of the fractional part is 1.\n",
      "\n",
      "If dn represents the nth digit of the fractional part, find the value of the following expression.\n",
      "\n",
      "d1 \u00d7 d10 \u00d7 d100 \u00d7 d1000 \u00d7 d10000 \u00d7 d100000 \u00d7 d1000000"
     ]
    },
    {
     "cell_type": "code",
     "collapsed": false,
     "input": [
      "len_num = 0\n",
      "s = ''\n",
      "num = 1\n",
      "while len_num < 1000000:\n",
      "    s += str(num)\n",
      "    len_num += len(str(num))\n",
      "    num += 1"
     ],
     "language": "python",
     "metadata": {},
     "outputs": [],
     "prompt_number": 7
    },
    {
     "cell_type": "code",
     "collapsed": false,
     "input": [
      "def get_val(s,n):\n",
      "    num = 1\n",
      "    for i in xrange(0,n+1):\n",
      "        num *= int(s[10**i-1])\n",
      "    return num\n",
      "\n",
      "print get_val(s,6)"
     ],
     "language": "python",
     "metadata": {},
     "outputs": [
      {
       "output_type": "stream",
       "stream": "stdout",
       "text": [
        "210\n"
       ]
      }
     ],
     "prompt_number": 15
    }
   ],
   "metadata": {}
  }
 ]
}