{
 "metadata": {
  "name": "",
  "signature": "sha256:c8f0aa9a38ac8232a237328cf10756f8472c16fc3d770dac5c981b9a4f06d499"
 },
 "nbformat": 3,
 "nbformat_minor": 0,
 "worksheets": [
  {
   "cells": [
    {
     "cell_type": "heading",
     "level": 1,
     "metadata": {},
     "source": [
      "Problem 53"
     ]
    },
    {
     "cell_type": "markdown",
     "metadata": {},
     "source": [
      "\n",
      "There are exactly ten ways of selecting three from five, 12345:\n",
      "\n",
      "123, 124, 125, 134, 135, 145, 234, 235, 245, and 345\n",
      "\n",
      "In combinatorics, we use the notation, 5C3 = 10.\n",
      "\n",
      "In general,\n",
      "\n",
      "nCr =\t\n",
      "n!\n",
      "r!(n\u2212r)!\n",
      ",where r \u2264 n, n! = n\u00d7(n\u22121)\u00d7...\u00d73\u00d72\u00d71, and 0! = 1.\n",
      "It is not until n = 23, that a value exceeds one-million: 23C10 = 1144066.\n",
      "\n",
      "How many, not necessarily distinct, values of  nCr, for 1 \u2264 n \u2264 100, are greater than one-million?"
     ]
    },
    {
     "cell_type": "code",
     "collapsed": false,
     "input": [
      "def fact(n,m):\n",
      "    if n > 1:\n",
      "        m = fact(n-1,m*n)\n",
      "    return m \n",
      "\n",
      "def comb(n,r):\n",
      "    return fact(n,1)/(fact(r,1)*fact(n-r,1))"
     ],
     "language": "python",
     "metadata": {},
     "outputs": [],
     "prompt_number": 18
    },
    {
     "cell_type": "code",
     "collapsed": false,
     "input": [
      "total = 0\n",
      "for i in xrange(1,101):\n",
      "    for j in xrange(1,i):\n",
      "        if comb(i,j) > 1000000:\n",
      "            total += 1\n",
      "print total"
     ],
     "language": "python",
     "metadata": {},
     "outputs": [
      {
       "output_type": "stream",
       "stream": "stdout",
       "text": [
        "4075\n"
       ]
      }
     ],
     "prompt_number": 19
    }
   ],
   "metadata": {}
  }
 ]
}