{
 "metadata": {
  "name": "",
  "signature": "sha256:13d6d85af41d12f20f0ca2e62dabf9f69d70a5bfbfa1f37cf832d9b84d596c23"
 },
 "nbformat": 3,
 "nbformat_minor": 0,
 "worksheets": [
  {
   "cells": [
    {
     "cell_type": "heading",
     "level": 1,
     "metadata": {},
     "source": [
      "Problem 49"
     ]
    },
    {
     "cell_type": "markdown",
     "metadata": {},
     "source": [
      "The arithmetic sequence, 1487, 4817, 8147, in which each of the terms increases by 3330, is unusual in two ways: (i) each of the three terms are prime, and, (ii) each of the 4-digit numbers are permutations of one another.\n",
      "\n",
      "There are no arithmetic sequences made up of three 1-, 2-, or 3-digit primes, exhibiting this property, but there is one other 4-digit increasing sequence.\n",
      "\n",
      "What 12-digit number do you form by concatenating the three terms in this sequence?"
     ]
    },
    {
     "cell_type": "code",
     "collapsed": false,
     "input": [
      "def primes_sieve(limit):\n",
      "    a = [True] * limit                        # initialize the primality list\n",
      "    a[0] = a[1] = False\n",
      "    for (i, isprime) in enumerate(a):\n",
      "        if isprime:\n",
      "            yield i\n",
      "            for n in xrange(i*i, limit, i):     # mark factors non-prime\n",
      "                a[n] = False\n",
      "                \n",
      "primes  = []\n",
      "for i in primes_sieve(10000):\n",
      "    if i > 1000:\n",
      "        primes.append(i)\n",
      "        \n",
      "def permute(nums,s):\n",
      "    if nums:\n",
      "        for i in xrange(len(nums)):\n",
      "             for p in permute(nums[:i]+nums[i+1:],s+nums[i]):\n",
      "                yield p\n",
      "    else:\n",
      "        yield s\n",
      "        \n",
      "def is_prime(n):\n",
      "    if n == 1:\n",
      "        return False\n",
      "    for i in xrange(2,int((abs(n)**0.5))+1):\n",
      "        if n%i == 0:\n",
      "            return False\n",
      "    return True"
     ],
     "language": "python",
     "metadata": {},
     "outputs": [],
     "prompt_number": 108
    },
    {
     "cell_type": "code",
     "collapsed": false,
     "input": [
      "# find primes with permutations that are also primes\n",
      "# cannot include 0\n",
      "#\n",
      "new_primes = list()\n",
      "for i in primes:\n",
      "    if '0' not in str(i):\n",
      "        new_primes.append(i)\n",
      "\n",
      "permable = set()\n",
      "for i in new_primes:\n",
      "    total_primes = 0\n",
      "    for j in permute(str(i),''):\n",
      "        if is_prime(int(j)):\n",
      "            total_primes += 1\n",
      "            if total_primes >= 3:\n",
      "                permable.add(i)\n"
     ],
     "language": "python",
     "metadata": {},
     "outputs": [],
     "prompt_number": 109
    },
    {
     "cell_type": "code",
     "collapsed": false,
     "input": [
      "for i in permable:\n",
      "    diff = dict()\n",
      "    for j in permute(str(i),''):\n",
      "        if check_prime(int(j)):\n",
      "            diff[int(j)] = i-int(j)\n",
      "    for k in diff.keys():\n",
      "        if diff[k] != 0:\n",
      "            for m in diff.keys():\n",
      "                if k != m and diff[m] == 2*diff[k]:\n",
      "                    print i,k,m,diff[k],diff[m]"
     ],
     "language": "python",
     "metadata": {},
     "outputs": [
      {
       "output_type": "stream",
       "stream": "stdout",
       "text": [
        "2969 6299 9629 -3330 -6660\n",
        "9629 6299 2969 3330 6660\n",
        "1487 4817 8147 -3330 -6660\n",
        "8147"
       ]
      },
      {
       "output_type": "stream",
       "stream": "stdout",
       "text": [
        " 4817 1487 3330 6660\n"
       ]
      }
     ],
     "prompt_number": 107
    }
   ],
   "metadata": {}
  }
 ]
}