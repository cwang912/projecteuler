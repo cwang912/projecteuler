{
 "metadata": {
  "name": "",
  "signature": "sha256:9b169f0c899f02a10dcd502b9385231aec5400ee7f18197dd831e087869b818c"
 },
 "nbformat": 3,
 "nbformat_minor": 0,
 "worksheets": [
  {
   "cells": [
    {
     "cell_type": "heading",
     "level": 1,
     "metadata": {},
     "source": [
      "Problem 39"
     ]
    },
    {
     "cell_type": "markdown",
     "metadata": {},
     "source": [
      "\n",
      "\n",
      "If p is the perimeter of a right angle triangle with integral length sides, {a,b,c}, there are exactly three solutions for p = 120.\n",
      "\n",
      "{20,48,52}, {24,45,51}, {30,40,50}\n",
      "\n",
      "For which value of p \u2264 1000, is the number of solutions maximised?"
     ]
    },
    {
     "cell_type": "code",
     "collapsed": false,
     "input": [
      "3*(1000/3)**2\n",
      "sols = 332667*[0]"
     ],
     "language": "python",
     "metadata": {},
     "outputs": [],
     "prompt_number": 14
    },
    {
     "cell_type": "code",
     "collapsed": false,
     "input": [
      "for i in xrange(1,333):\n",
      "    for j in xrange(i,400):\n",
      "        for k in xrange(j,500):\n",
      "            if i**2 + j**2 == k**2:\n",
      "                sols[i+j+k] += 1\n",
      "print sols.index(max(sols))"
     ],
     "language": "python",
     "metadata": {},
     "outputs": [
      {
       "output_type": "stream",
       "stream": "stdout",
       "text": [
        "840\n"
       ]
      }
     ],
     "prompt_number": 15
    }
   ],
   "metadata": {}
  }
 ]
}