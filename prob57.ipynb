{
 "metadata": {
  "name": "",
  "signature": "sha256:30c7b2a99e1d35183e24e5b94d3c2fcef56c4a981a6824c8f53fefa91eaabe78"
 },
 "nbformat": 3,
 "nbformat_minor": 0,
 "worksheets": [
  {
   "cells": [
    {
     "cell_type": "heading",
     "level": 1,
     "metadata": {},
     "source": [
      "Problem 57"
     ]
    },
    {
     "cell_type": "markdown",
     "metadata": {},
     "source": [
      "It is possible to show that the square root of two can be expressed as an infinite continued fraction.\n",
      "\n",
      "\u221a 2 = 1 + 1/(2 + 1/(2 + 1/(2 + ... ))) = 1.414213...\n",
      "\n",
      "By expanding this for the first four iterations, we get:\n",
      "\n",
      "1 + 1/2 = 3/2 = 1.5\n",
      "\n",
      "1 + 1/(2 + 1/2) = 7/5 = 1.4\n",
      "\n",
      "1 + 1/(2 + 1/(2 + 1/2)) = 17/12 = 1.41666...\n",
      "\n",
      "1 + 1/(2 + 1/(2 + 1/(2 + 1/2))) = 41/29 = 1.41379...\n",
      "\n",
      "The next three expansions are 99/70, 239/169, and 577/408, but the eighth expansion, 1393/985, is the first example where the number of digits in the numerator exceeds the number of digits in the denominator.\n",
      "\n",
      "In the first one-thousand expansions, how many fractions contain a numerator with more digits than denominator?"
     ]
    },
    {
     "cell_type": "code",
     "collapsed": false,
     "input": [
      "num, denom = 1, 2\n",
      "total = 0\n",
      "for i in xrange(0,1000):\n",
      "    num, denom = denom, num + 2*denom\n",
      "    if len(str(num+denom)) > len(str(denom)):\n",
      "        total += 1\n",
      "print total"
     ],
     "language": "python",
     "metadata": {},
     "outputs": [
      {
       "output_type": "stream",
       "stream": "stdout",
       "text": [
        "153\n"
       ]
      }
     ],
     "prompt_number": 10
    }
   ],
   "metadata": {}
  }
 ]
}