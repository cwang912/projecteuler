{
 "metadata": {
  "name": "",
  "signature": "sha256:a131b641e6e9376f97cd9dfc0820a7ab99c5d26dd7a484f9358e2bcbc7b02654"
 },
 "nbformat": 3,
 "nbformat_minor": 0,
 "worksheets": [
  {
   "cells": [
    {
     "cell_type": "heading",
     "level": 1,
     "metadata": {},
     "source": [
      "Problem 72"
     ]
    },
    {
     "cell_type": "markdown",
     "metadata": {},
     "source": [
      "Consider the fraction, n/d, where n and d are positive integers. If n<d and HCF(n,d)=1, it is called a reduced proper fraction.\n",
      "\n",
      "If we list the set of reduced proper fractions for d \u2264 8 in ascending order of size, we get:\n",
      "\n",
      "1/8, 1/7, 1/6, 1/5, 1/4, 2/7, 1/3, 3/8, 2/5, 3/7, 1/2, 4/7, 3/5, 5/8, 2/3, 5/7, 3/4, 4/5, 5/6, 6/7, 7/8\n",
      "\n",
      "It can be seen that there are 21 elements in this set.\n",
      "\n",
      "How many elements would be contained in the set of reduced proper fractions for d \u2264 1,000,000?"
     ]
    },
    {
     "cell_type": "code",
     "collapsed": false,
     "input": [
      "def primes_sieve(limit):\n",
      "    a = [True] * limit                        # initialize the primality list\n",
      "    a[0] = a[1] = False\n",
      "    for (i, isprime) in enumerate(a):\n",
      "        if isprime:\n",
      "            yield i\n",
      "            for n in xrange(i*i, limit, i):     # mark factors non-prime\n",
      "                a[n] = False\n",
      "\n",
      "primes = list(primes_sieve(1000000))"
     ],
     "language": "python",
     "metadata": {},
     "outputs": [],
     "prompt_number": 1
    },
    {
     "cell_type": "code",
     "collapsed": false,
     "input": [
      "def get_div(n):\n",
      "    nums = []\n",
      "    for i in primes:\n",
      "        if n%i == 0:\n",
      "            nums.append(i)\n",
      "        elif i >= n/2:\n",
      "            break\n",
      "    return nums"
     ],
     "language": "python",
     "metadata": {},
     "outputs": [],
     "prompt_number": 2
    },
    {
     "cell_type": "code",
     "collapsed": false,
     "input": [
      "def prime_factors(n):\n",
      "    res = set()\n",
      "    # iterate over all even numbers first.\n",
      "    while n % 2 == 0:\n",
      "        res.add(2)\n",
      "        n //= 2\n",
      "    # try odd numbers up to sqrt(n)\n",
      "    limit = (n+1)**0.5\n",
      "    i = 3\n",
      "    while i <= limit:\n",
      "        if n % i == 0:\n",
      "            res.add(i)\n",
      "            n //= i\n",
      "            limit = (n+i)**0.5\n",
      "        else:\n",
      "            i += 2\n",
      "    if n != 1:\n",
      "        res.add(n)\n",
      "    return res"
     ],
     "language": "python",
     "metadata": {},
     "outputs": [],
     "prompt_number": 8
    },
    {
     "cell_type": "code",
     "collapsed": false,
     "input": [
      "%%timeit\n",
      "\n",
      "get_div(100000)"
     ],
     "language": "python",
     "metadata": {},
     "outputs": [
      {
       "output_type": "stream",
       "stream": "stdout",
       "text": [
        "1000 loops, best of 3: 851 \u00b5s per loop\n"
       ]
      }
     ],
     "prompt_number": 5
    },
    {
     "cell_type": "code",
     "collapsed": false,
     "input": [
      "def phi(d,n):\n",
      "    for i in d:\n",
      "        n *= (1-1/float(i))\n",
      "    return int(n)"
     ],
     "language": "python",
     "metadata": {},
     "outputs": [
      {
       "output_type": "stream",
       "stream": "stdout",
       "text": [
        "100000 loops, best of 3: 4.68 \u00b5s per loop\n"
       ]
      }
     ],
     "prompt_number": 9
    },
    {
     "cell_type": "code",
     "collapsed": false,
     "input": [
      "count = 0\n",
      "for i in xrange(2,1000001):\n",
      "    count += phi(prime_factors(i),i)"
     ],
     "language": "python",
     "metadata": {},
     "outputs": [],
     "prompt_number": 22
    },
    {
     "cell_type": "code",
     "collapsed": false,
     "input": [
      "print count"
     ],
     "language": "python",
     "metadata": {},
     "outputs": [
      {
       "output_type": "stream",
       "stream": "stdout",
       "text": [
        "303963552391\n"
       ]
      }
     ],
     "prompt_number": 23
    },
    {
     "cell_type": "code",
     "collapsed": false,
     "input": [
      "def totient_sieve(n):\n",
      "    ''' return list of totient(i) for i from 0 to n-1.\n",
      " \n",
      "    >>> totient_sieve(12)\n",
      "    [0, 1, 1, 2, 2, 4, 2, 6, 4, 6, 4, 10]\n",
      "    '''\n",
      "     \n",
      "    tots = range(n)\n",
      "    for i in range(2, n):\n",
      "        if tots[i] == i:\n",
      "            tots[i::i] = (x*(i-1)/i for x in tots[i::i])\n",
      "    return tots"
     ],
     "language": "python",
     "metadata": {},
     "outputs": [
      {
       "metadata": {},
       "output_type": "pyout",
       "prompt_number": 21,
       "text": [
        "4"
       ]
      }
     ],
     "prompt_number": 21
    }
   ],
   "metadata": {}
  }
 ]
}