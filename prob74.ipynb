{
 "metadata": {
  "name": "",
  "signature": "sha256:70715f62819880639681b5111ce99a3deb635ec49cbab136f2a805d43413a1da"
 },
 "nbformat": 3,
 "nbformat_minor": 0,
 "worksheets": [
  {
   "cells": [
    {
     "cell_type": "heading",
     "level": 1,
     "metadata": {},
     "source": [
      "Problem 74"
     ]
    },
    {
     "cell_type": "markdown",
     "metadata": {},
     "source": [
      "The number 145 is well known for the property that the sum of the factorial of its digits is equal to 145:\n",
      "\n",
      "1! + 4! + 5! = 1 + 24 + 120 = 145\n",
      "\n",
      "Perhaps less well known is 169, in that it produces the longest chain of numbers that link back to 169; it turns out that there are only three such loops that exist:\n",
      "\n",
      "169 \u2192 363601 \u2192 1454 \u2192 169\n",
      "871 \u2192 45361 \u2192 871\n",
      "872 \u2192 45362 \u2192 872\n",
      "\n",
      "It is not difficult to prove that EVERY starting number will eventually get stuck in a loop. For example,\n",
      "\n",
      "69 \u2192 363600 \u2192 1454 \u2192 169 \u2192 363601 (\u2192 1454)\n",
      "78 \u2192 45360 \u2192 871 \u2192 45361 (\u2192 871)\n",
      "540 \u2192 145 (\u2192 145)\n",
      "\n",
      "Starting with 69 produces a chain of five non-repeating terms, but the longest non-repeating chain with a starting number below one million is sixty terms.\n",
      "\n",
      "How many chains, with a starting number below one million, contain exactly sixty non-repeating terms?"
     ]
    },
    {
     "cell_type": "code",
     "collapsed": false,
     "input": [
      "from math import factorial\n",
      "\n",
      "facts = dict()\n",
      "for i in xrange(0,10):\n",
      "    facts[str(i)] = factorial(i)"
     ],
     "language": "python",
     "metadata": {},
     "outputs": [],
     "prompt_number": 21
    },
    {
     "cell_type": "code",
     "collapsed": false,
     "input": [
      "def next_fact(s):\n",
      "    total = 0\n",
      "    for i in s:\n",
      "        total += facts[i]\n",
      "    return total"
     ],
     "language": "python",
     "metadata": {},
     "outputs": [],
     "prompt_number": 22
    },
    {
     "cell_type": "code",
     "collapsed": false,
     "input": [
      "s = '19213'\n",
      "next_fact(s)"
     ],
     "language": "python",
     "metadata": {},
     "outputs": [
      {
       "metadata": {},
       "output_type": "pyout",
       "prompt_number": 23,
       "text": [
        "362890"
       ]
      }
     ],
     "prompt_number": 23
    },
    {
     "cell_type": "code",
     "collapsed": false,
     "input": [
      "N = []\n",
      "for i in xrange(1,1000001):\n",
      "    seq = []\n",
      "    num = i\n",
      "    while num not in seq:\n",
      "        seq.append(num)\n",
      "#         print num\n",
      "        num = next_fact(str(num))\n",
      "    if len(seq) >= 60:\n",
      "        N.append(i)\n",
      "        "
     ],
     "language": "python",
     "metadata": {},
     "outputs": [
      {
       "output_type": "stream",
       "stream": "stdout",
       "text": [
        "1 loops, best of 3: 56.4 s per loop\n"
       ]
      }
     ],
     "prompt_number": 24
    },
    {
     "cell_type": "code",
     "collapsed": false,
     "input": [
      "seq"
     ],
     "language": "python",
     "metadata": {},
     "outputs": [
      {
       "metadata": {},
       "output_type": "pyout",
       "prompt_number": 7,
       "text": [
        "[10, 2]"
       ]
      }
     ],
     "prompt_number": 7
    },
    {
     "cell_type": "code",
     "collapsed": false,
     "input": [
      "len(N)"
     ],
     "language": "python",
     "metadata": {},
     "outputs": [
      {
       "metadata": {},
       "output_type": "pyout",
       "prompt_number": 16,
       "text": [
        "402"
       ]
      }
     ],
     "prompt_number": 16
    },
    {
     "cell_type": "code",
     "collapsed": false,
     "input": [],
     "language": "python",
     "metadata": {},
     "outputs": []
    }
   ],
   "metadata": {}
  }
 ]
}