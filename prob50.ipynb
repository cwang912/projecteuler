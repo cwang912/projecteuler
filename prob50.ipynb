{
 "metadata": {
  "name": "",
  "signature": "sha256:e01b62f44f3e0a4e02341a3cfc499c79e34b047286515b0ea480aa8b159d4725"
 },
 "nbformat": 3,
 "nbformat_minor": 0,
 "worksheets": [
  {
   "cells": [
    {
     "cell_type": "heading",
     "level": 1,
     "metadata": {},
     "source": [
      "Problem 50\n"
     ]
    },
    {
     "cell_type": "markdown",
     "metadata": {},
     "source": [
      "\n",
      "The prime 41, can be written as the sum of six consecutive primes:\n",
      "\n",
      "41 = 2 + 3 + 5 + 7 + 11 + 13\n",
      "This is the longest sum of consecutive primes that adds to a prime below one-hundred.\n",
      "\n",
      "The longest sum of consecutive primes below one-thousand that adds to a prime, contains 21 terms, and is equal to 953.\n",
      "\n",
      "Which prime, below one-million, can be written as the sum of the most consecutive primes?"
     ]
    },
    {
     "cell_type": "code",
     "collapsed": false,
     "input": [
      "def primes_sieve(limit):\n",
      "    a = [True] * limit                          # Initialize the primality list\n",
      "    a[0] = a[1] = False\n",
      "    for (i, isprime) in enumerate(a):\n",
      "        if isprime:\n",
      "            yield i\n",
      "            for n in xrange(i*i, limit, i):     # Mark factors non-prime\n",
      "                a[n] = False\n",
      "\n",
      "def is_prime(n):\n",
      "    if n == 1:\n",
      "        return False\n",
      "    for i in xrange(2,int((abs(n)**0.5))+1):\n",
      "        if n%i == 0:\n",
      "            return False\n",
      "    return True\n",
      "    "
     ],
     "language": "python",
     "metadata": {},
     "outputs": [],
     "prompt_number": 18
    },
    {
     "cell_type": "code",
     "collapsed": false,
     "input": [
      "primes_dict = dict.fromkeys(primes_sieve(1000000))\n",
      "primes_list = list(primes_sieve(1000000))"
     ],
     "language": "python",
     "metadata": {},
     "outputs": [],
     "prompt_number": 7
    },
    {
     "cell_type": "code",
     "collapsed": false,
     "input": [
      "max_len, max_start, max_j = 0,0,0\n",
      "\n",
      "for i in xrange(21,len(primes_list)):\n",
      "    for j in xrange(0,len(primes_list)-i):\n",
      "        if sum(primes_list[j:j+i]) < 1000000:\n",
      "            if sum(primes_list[j:j+i]) in primes_dict:\n",
      "                max_len = i\n",
      "                max_start = primes_list[j]\n",
      "                max_j = j\n",
      "\n",
      "        else:\n",
      "            break\n",
      "\n",
      "print (sum(primes_list[max_j:max_j+max_len]))"
     ],
     "language": "python",
     "metadata": {},
     "outputs": [
      {
       "output_type": "stream",
       "stream": "stdout",
       "text": [
        "997651\n"
       ]
      }
     ],
     "prompt_number": 21
    },
    {
     "cell_type": "code",
     "collapsed": false,
     "input": [],
     "language": "python",
     "metadata": {},
     "outputs": []
    }
   ],
   "metadata": {}
  }
 ]
}