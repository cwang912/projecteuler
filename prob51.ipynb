{
 "metadata": {
  "name": "",
  "signature": "sha256:7699b1d99313b9d43b76ebd5380be15bc29d1e50b6968d85f4e7a52faf044d6e"
 },
 "nbformat": 3,
 "nbformat_minor": 0,
 "worksheets": [
  {
   "cells": [
    {
     "cell_type": "heading",
     "level": 1,
     "metadata": {},
     "source": [
      "Problem 51"
     ]
    },
    {
     "cell_type": "markdown",
     "metadata": {},
     "source": [
      "\n",
      "\n",
      "By replacing the 1st digit of the 2-digit number *3, it turns out that six of the nine possible values: 13, 23, 43, 53, 73, and 83, are all prime.\n",
      "\n",
      "By replacing the 3rd and 4th digits of 56**3 with the same digit, this 5-digit number is the first example having seven primes among the ten generated numbers, yielding the family: 56003, 56113, 56333, 56443, 56663, 56773, and 56993. Consequently 56003, being the first member of this family, is the smallest prime with this property.\n",
      "\n",
      "Find the smallest prime which, by replacing part of the number (not necessarily adjacent digits) with the same digit, is part of an eight prime value family."
     ]
    },
    {
     "cell_type": "code",
     "collapsed": false,
     "input": [
      "def primes_sieve(limit):\n",
      "    a = [True] * limit                        # initialize the primality list\n",
      "    a[0] = a[1] = False\n",
      "    for (i, isprime) in enumerate(a):\n",
      "        if isprime:\n",
      "            yield i\n",
      "            for n in xrange(i*i, limit, i):     # mark factors non-prime\n",
      "                a[n] = False\n",
      "                \n",
      "def is_prime(n):\n",
      "    if n == 1:\n",
      "        return False\n",
      "    for i in xrange(2,int((abs(n)**0.5))+1):\n",
      "        if n%i == 0:\n",
      "            return False\n",
      "    return True\n",
      "    \n",
      "def change_nums(s,n): # can't be the last one\n",
      "    found = False\n",
      "    for i in n:\n",
      "        count = 0\n",
      "        nums = []\n",
      "        if s[0] == i:\n",
      "            start = 1\n",
      "        else:\n",
      "            start = 0\n",
      "        for j in xrange(start,10):\n",
      "            if is_prime(int(s.replace(i,str(j)))):\n",
      "                count += 1\n",
      "                nums.append(j)\n",
      "        if count == 8:\n",
      "            print s, nums\n",
      "            found = True\n",
      "            break\n",
      "    return found\n",
      "     \n",
      "        \n",
      "def count_num(n):\n",
      "    nums = set()\n",
      "    for i in n[:-1]:\n",
      "        if n[:-1].count(i) >= 3:\n",
      "            nums.add(i)\n",
      "    return nums\n",
      "         \n",
      "primes = dict.fromkeys(primes_sieve(1000000))"
     ],
     "language": "python",
     "metadata": {},
     "outputs": [],
     "prompt_number": 40
    },
    {
     "cell_type": "code",
     "collapsed": false,
     "input": [
      "# first, find primes with at least three of the same number, and not the last digit\n",
      "for i in primes:\n",
      "    nums = count_num(str(i))\n",
      "    if nums:\n",
      "        change_nums(str(i),nums)        "
     ],
     "language": "python",
     "metadata": {},
     "outputs": [
      {
       "output_type": "stream",
       "stream": "stdout",
       "text": [
        "626363 [1, 2, 3, 4, 5, 6, 8, 9]\n",
        "424343"
       ]
      },
      {
       "output_type": "stream",
       "stream": "stdout",
       "text": [
        " [1, 2, 3, 4, 5, 6, 8, 9]\n",
        "525353"
       ]
      },
      {
       "output_type": "stream",
       "stream": "stdout",
       "text": [
        " [1, 2, 3, 4, 5, 6, 8, 9]\n",
        "929393"
       ]
      },
      {
       "output_type": "stream",
       "stream": "stdout",
       "text": [
        " [1, 2, 3, 4, 5, 6, 8, 9]\n",
        "828383"
       ]
      },
      {
       "output_type": "stream",
       "stream": "stdout",
       "text": [
        " [1, 2, 3, 4, 5, 6, 8, 9]\n",
        "121313"
       ]
      },
      {
       "output_type": "stream",
       "stream": "stdout",
       "text": [
        " [1, 2, 3, 4, 5, 6, 8, 9]\n"
       ]
      }
     ],
     "prompt_number": 41
    },
    {
     "cell_type": "code",
     "collapsed": false,
     "input": [],
     "language": "python",
     "metadata": {},
     "outputs": []
    }
   ],
   "metadata": {}
  }
 ]
}