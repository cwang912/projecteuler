{
 "metadata": {
  "name": "",
  "signature": "sha256:2dccfb8507ea4e562929a50de9785d250ae9a8a534237f7f8e4fea4233dc3ae7"
 },
 "nbformat": 3,
 "nbformat_minor": 0,
 "worksheets": [
  {
   "cells": [
    {
     "cell_type": "heading",
     "level": 1,
     "metadata": {},
     "source": [
      "Problem 78"
     ]
    },
    {
     "cell_type": "code",
     "collapsed": false,
     "input": [
      "List<int> p = new List<int>();\n",
      "p.Add(1);\n",
      "             \n",
      "int n = 1;            \n",
      "while(true){\n",
      "    int i = 0;\n",
      "    int penta = 1;\n",
      "    p.Add(0);\n",
      " \n",
      "    while (penta <= n){                    \n",
      "        int sign = (i % 4 > 1) ? -1 : 1;\n",
      "        p[n] += sign * p[n - penta];\n",
      "        p[n] %= 1000000;\n",
      "        i++;\n",
      "                  \n",
      "        int j = (i % 2 == 0) ? i / 2 + 1 : -(i / 2 + 1);\n",
      "        penta = j * (3 * j - 1) / 2;\n",
      "    } \n",
      "                 \n",
      "    if (p[n] == 0) break;\n",
      "    n++;\n",
      "}"
     ],
     "language": "python",
     "metadata": {},
     "outputs": [],
     "prompt_number": 1
    },
    {
     "cell_type": "code",
     "collapsed": false,
     "input": [
      "p = [1]\n",
      "n = 1\n",
      "while True:\n",
      "    i = 0\n",
      "    penta = 1\n",
      "    p.append(0)\n",
      "    while penta <= n:\n",
      "        if i % 4 > 1:\n",
      "            sign = -1\n",
      "        else:\n",
      "            sign = 1\n",
      "        p[n] += sign*p[n-penta]\n",
      "        p[n] %= 1000000\n",
      "        i += 1\n",
      "        if i%2 == 0:\n",
      "            j = i/2+1\n",
      "        else:\n",
      "            j = -(i/2+1)\n",
      "        penta = j*(3*j-1)/2\n",
      "    if p[n] == 0:\n",
      "        break\n",
      "    n += 1\n",
      "    \n",
      "\n",
      "\n"
     ],
     "language": "python",
     "metadata": {},
     "outputs": [],
     "prompt_number": 21
    },
    {
     "cell_type": "code",
     "collapsed": false,
     "input": [
      "n"
     ],
     "language": "python",
     "metadata": {},
     "outputs": [
      {
       "metadata": {},
       "output_type": "pyout",
       "prompt_number": 23,
       "text": [
        "55374"
       ]
      }
     ],
     "prompt_number": 23
    },
    {
     "cell_type": "code",
     "collapsed": false,
     "input": [
      "count(range(1,target),target)"
     ],
     "language": "python",
     "metadata": {},
     "outputs": [
      {
       "metadata": {},
       "output_type": "pyout",
       "prompt_number": 10,
       "text": [
        "2933991228212416784843441604124698L"
       ]
      }
     ],
     "prompt_number": 10
    },
    {
     "cell_type": "code",
     "collapsed": false,
     "input": [
      "count(range(1,4+1),4)"
     ],
     "language": "python",
     "metadata": {},
     "outputs": [
      {
       "metadata": {},
       "output_type": "pyout",
       "prompt_number": 11,
       "text": [
        "5"
       ]
      }
     ],
     "prompt_number": 11
    },
    {
     "cell_type": "code",
     "collapsed": false,
     "input": [
      "def p(n):\n",
      "    num = 1\n",
      "    for i in xrange(1,n+1):\n",
      "        num /= (1-)"
     ],
     "language": "python",
     "metadata": {},
     "outputs": [
      {
       "ename": "SyntaxError",
       "evalue": "invalid syntax (<ipython-input-12-d3db0589b419>, line 4)",
       "output_type": "pyerr",
       "traceback": [
        "\u001b[0;36m  File \u001b[0;32m\"<ipython-input-12-d3db0589b419>\"\u001b[0;36m, line \u001b[0;32m4\u001b[0m\n\u001b[0;31m    num /= (1-)\u001b[0m\n\u001b[0m              ^\u001b[0m\n\u001b[0;31mSyntaxError\u001b[0m\u001b[0;31m:\u001b[0m invalid syntax\n"
       ]
      }
     ],
     "prompt_number": 12
    },
    {
     "cell_type": "code",
     "collapsed": false,
     "input": [],
     "language": "python",
     "metadata": {},
     "outputs": []
    }
   ],
   "metadata": {}
  }
 ]
}