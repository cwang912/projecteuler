{
 "metadata": {
  "name": "",
  "signature": "sha256:482ed49ffad524c4117958203adbcdce3ead6216cbd3a2fc85a4fcfe7b04053b"
 },
 "nbformat": 3,
 "nbformat_minor": 0,
 "worksheets": [
  {
   "cells": [
    {
     "cell_type": "heading",
     "level": 1,
     "metadata": {},
     "source": [
      "Problem 46\n"
     ]
    },
    {
     "cell_type": "markdown",
     "metadata": {},
     "source": [
      "\n",
      "It was proposed by Christian Goldbach that every odd composite number can be written as the sum of a prime and twice a square.\n",
      "\n",
      "9 = 7 + 2\u00d712\n",
      "\n",
      "15 = 7 + 2\u00d722\n",
      "\n",
      "21 = 3 + 2\u00d732\n",
      "\n",
      "25 = 7 + 2\u00d732\n",
      "\n",
      "27 = 19 + 2\u00d722\n",
      "\n",
      "33 = 31 + 2\u00d712\n",
      "\n",
      "It turns out that the conjecture was false.\n",
      "\n",
      "What is the smallest odd composite that cannot be written as the sum of a prime and twice a square?"
     ]
    },
    {
     "cell_type": "code",
     "collapsed": false,
     "input": [
      "def is_prime(n):\n",
      "    if n == 1:\n",
      "        return False\n",
      "    for i in xrange(2,int((abs(n)**0.5))+1):\n",
      "        if n%i == 0:\n",
      "            return False\n",
      "    return True\n",
      "\n",
      "odd = 29\n",
      "found = False\n",
      "while not found:\n",
      "    odd += 2\n",
      "    if not is_prime(odd):\n",
      "        found = True\n",
      "        for i in xrange(1,int((odd/2)**0.5)+1):\n",
      "            if is_prime(odd - 2*i**2):\n",
      "                found = False\n",
      "                break\n",
      "print odd     "
     ],
     "language": "python",
     "metadata": {},
     "outputs": [
      {
       "output_type": "stream",
       "stream": "stdout",
       "text": [
        "5777\n"
       ]
      }
     ],
     "prompt_number": 32
    }
   ],
   "metadata": {}
  }
 ]
}