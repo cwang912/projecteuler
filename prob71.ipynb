{
 "metadata": {
  "name": "",
  "signature": "sha256:728eb031e1bd9f27164d2a727a9262b05f122dc0aac084ca720d5d3a0ee1f780"
 },
 "nbformat": 3,
 "nbformat_minor": 0,
 "worksheets": [
  {
   "cells": [
    {
     "cell_type": "heading",
     "level": 1,
     "metadata": {},
     "source": [
      "Problem 71"
     ]
    },
    {
     "cell_type": "code",
     "collapsed": false,
     "input": [
      "c = 0.4\n",
      "I,J = 0,0\n",
      "for i in range(8,1000001):\n",
      "    j = int(i*3.0/7.0)\n",
      "    if float(j)/float(i) > c and float(j)/float(i) < 3.0/7.0:\n",
      "        c = float(j)/float(i)\n",
      "        I,J = i,j"
     ],
     "language": "python",
     "metadata": {},
     "outputs": [],
     "prompt_number": 9
    },
    {
     "cell_type": "code",
     "collapsed": false,
     "input": [
      "I,J"
     ],
     "language": "python",
     "metadata": {},
     "outputs": [
      {
       "metadata": {},
       "output_type": "pyout",
       "prompt_number": 10,
       "text": [
        "(999997, 428570)"
       ]
      }
     ],
     "prompt_number": 10
    },
    {
     "cell_type": "code",
     "collapsed": false,
     "input": [
      "428570.0/999997 "
     ],
     "language": "python",
     "metadata": {},
     "outputs": [
      {
       "metadata": {},
       "output_type": "pyout",
       "prompt_number": 12,
       "text": [
        "0.42857128571385716"
       ]
      }
     ],
     "prompt_number": 12
    },
    {
     "cell_type": "code",
     "collapsed": false,
     "input": [
      "3.0/7.0-428570.0/999997 "
     ],
     "language": "python",
     "metadata": {},
     "outputs": [
      {
       "metadata": {},
       "output_type": "pyout",
       "prompt_number": 14,
       "text": [
        "1.4285757138354782e-07"
       ]
      }
     ],
     "prompt_number": 14
    },
    {
     "cell_type": "code",
     "collapsed": false,
     "input": [
      "3.0/7.0-428570.0/999999"
     ],
     "language": "python",
     "metadata": {},
     "outputs": [
      {
       "metadata": {},
       "output_type": "pyout",
       "prompt_number": 15,
       "text": [
        "1.0000009999511228e-06"
       ]
      }
     ],
     "prompt_number": 15
    }
   ],
   "metadata": {}
  }
 ]
}