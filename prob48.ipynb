{
 "metadata": {
  "name": "",
  "signature": "sha256:00ff8946b5fe14ccfeb73f59db7087769a40aec7189c7d8e86b6cb1c19813623"
 },
 "nbformat": 3,
 "nbformat_minor": 0,
 "worksheets": [
  {
   "cells": [
    {
     "cell_type": "heading",
     "level": 1,
     "metadata": {},
     "source": [
      "Problem 48"
     ]
    },
    {
     "cell_type": "markdown",
     "metadata": {},
     "source": [
      "\n",
      "The series, 1^1 + 2^2 + 3^3 + ... + 10^10 = 10405071317.\n",
      "\n",
      "Find the last ten digits of the series, 1^1 + 2^2 + 3^3 + ... + 1000^1000."
     ]
    },
    {
     "cell_type": "code",
     "collapsed": false,
     "input": [
      "total = 0\n",
      "for i in xrange(1,1001):\n",
      "    total += (i**i)\n",
      "str(total)[-10:]"
     ],
     "language": "python",
     "metadata": {},
     "outputs": [
      {
       "metadata": {},
       "output_type": "pyout",
       "prompt_number": 16,
       "text": [
        "'9110846700'"
       ]
      }
     ],
     "prompt_number": 16
    }
   ],
   "metadata": {}
  }
 ]
}